{
 "cells": [
  {
   "cell_type": "markdown",
   "metadata": {},
   "source": [
    "# Patient EMPI Graph\n",
    "This notebook accompanies our blog post. Ingest into an Amazon Neptune database, and then query, patient data based on Open Enterprise Master Patient Index (OpenEMPI) model. See https://www.openhealthnews.com/content/openempi for more.\n",
    "\n",
    "This notebook uses a converter tool to transform large JSON export files to CSV for bulk load into Neptune. \n",
    "\n",
    "Refer to the blog post to delve deeper into the approach."
   ]
  },
  {
   "cell_type": "markdown",
   "metadata": {},
   "source": [
    "## Convert Source Data to Neptune CSV\n",
    "Convert large JSON files, representing Patients, exported from OrientDB. For demonstration purposes, this is mock data. Convert the files to CSV. Stage in S3 bucket. Bulk-load to Neptune.\n"
   ]
  },
  {
   "cell_type": "markdown",
   "metadata": {},
   "source": [
    "### Find name of your S3 Bucket\n",
    "An S3 bucket for staging patient data was created during setup. Get the name of the bucket."
   ]
  },
  {
   "cell_type": "code",
   "execution_count": null,
   "metadata": {},
   "outputs": [],
   "source": [
    "import os\n",
    "import subprocess\n",
    "\n",
    "stream = os.popen(\"source ~/.bashrc ; echo $S3_SOURCE_BUCKET; echo $S3_SOURCE_BUCKET\")\n",
    "S3_BUCKET = stream.read().split(\"\\n\")[0]\n",
    "\n",
    "S3_BUCKET"
   ]
  },
  {
   "cell_type": "markdown",
   "metadata": {},
   "source": [
    "### Grab local copy of S3 data\n",
    "Get the JSON export as a local file on this instance."
   ]
  },
  {
   "cell_type": "code",
   "execution_count": null,
   "metadata": {},
   "outputs": [],
   "source": [
    "%%bash -s \"$S3_BUCKET\"\n",
    "\n",
    "echo $1\n",
    "mkdir converter_dir\n",
    "cd converter_dir\n",
    "aws s3 sync s3://$1 .\n",
    "rm -r notebook # already have it\n",
    "cd converter\n"
   ]
  },
  {
   "cell_type": "markdown",
   "metadata": {},
   "source": [
    "### Install NPM dependencies for converter\n",
    "The Converter uses Node.js. Setup NPM dependencies."
   ]
  },
  {
   "cell_type": "code",
   "execution_count": null,
   "metadata": {},
   "outputs": [],
   "source": [
    "%%bash\n",
    "\n",
    "cd converter_dir/converter\n",
    "\n",
    "# need nvm\n",
    "curl https://raw.githubusercontent.com/creationix/nvm/master/install.sh | bash\n",
    "export NVM_DIR=\"$HOME/.nvm\"\n",
    "    [ -s \"$NVM_DIR/nvm.sh\" ] && \\. \"$NVM_DIR/nvm.sh\"  # This loads nvm\n",
    "    [ -s \"$NVM_DIR/bash_completion\" ] && \\. \"$NVM_DIR/bash_completion\"  # This loads nvm bash_completion\n",
    "    \n",
    "# need node 16\n",
    "nvm install 16\n",
    "\n",
    "# need dependencies\n",
    "npm install #dependencies\n",
    "\n",
    "# let's see which node versions we have\n",
    "ls -l /home/ec2-user/.nvm/versions/node\n"
   ]
  },
  {
   "cell_type": "markdown",
   "metadata": {},
   "source": [
    "### Run the converter\n",
    "Run the converter through bash shell. Input data file was downloaded to this instance above. Output is also a local file. "
   ]
  },
  {
   "cell_type": "code",
   "execution_count": null,
   "metadata": {},
   "outputs": [],
   "source": [
    "%%bash\n",
    "\n",
    "cd converter_dir/converter\n",
    "\n",
    "/home/ec2-user/.nvm/versions/node/*/bin/node process.js ../data/openempi_patient_db.json.gz patients\n"
   ]
  },
  {
   "cell_type": "markdown",
   "metadata": {},
   "source": [
    "### Move converted files to s3\n",
    "Move the output of the converter (CSV files) to S3 bucket."
   ]
  },
  {
   "cell_type": "code",
   "execution_count": null,
   "metadata": {},
   "outputs": [],
   "source": [
    "%%bash -s \"$S3_BUCKET\"\n",
    "\n",
    "cd converter_dir/converter \n",
    "aws s3 cp neptune-patients-identifier.csv.gz s3://$1/data/converted/neptune-patients-identifier.csv.gz\n",
    "aws s3 cp neptune-patients-patient.csv.gz s3://$1/data/converted/neptune-patients-patient.csv.gz\n",
    "aws s3 cp neptune-patients-recordLink.csv.gz s3://$1/data/converted/neptune-patients-recordLink.csv.gz\n",
    "aws s3 cp neptune-patients-identifierEdge.csv.gz s3://$1/data/converted/neptune-patients-identifierEdge.csv.gz\n"
   ]
  },
  {
   "cell_type": "markdown",
   "metadata": {},
   "source": [
    "## Load data into Neptune\n",
    "Bulk-load converter output to Neptune database"
   ]
  },
  {
   "cell_type": "code",
   "execution_count": null,
   "metadata": {},
   "outputs": [],
   "source": [
    "%load -s s3://{S3_BUCKET}/data/converted --store-to loadres --run"
   ]
  },
  {
   "cell_type": "markdown",
   "metadata": {},
   "source": [
    "## Check load status\n",
    "Check the bulk load succeeded. There are a few records with missing links. That is to be expected. "
   ]
  },
  {
   "cell_type": "code",
   "execution_count": null,
   "metadata": {},
   "outputs": [],
   "source": [
    "%load_status {loadres['payload']['loadId']} --details --errors"
   ]
  },
  {
   "cell_type": "markdown",
   "metadata": {},
   "source": [
    "## Query the Data in Neptune\n",
    "The patient data is now in Neptune. Let's query it using common access patterns."
   ]
  },
  {
   "cell_type": "markdown",
   "metadata": {},
   "source": [
    "### Find patient by SSN. Show patient details, identifiers, record links.\n",
    "Find the patient with given SSN. Also bring in their identifiers and links to other patient records."
   ]
  },
  {
   "cell_type": "code",
   "execution_count": null,
   "metadata": {},
   "outputs": [],
   "source": [
    "%%gremlin\n",
    "\n",
    "// find patients that match on ssn\n",
    "g.V().\n",
    "  hasLabel('patient').has('ssn', '460000320'). // show full patient record and summary identifiers, record links\n",
    "  project('patient', 'identifiers', 'links').\n",
    "    by(elementMap()).\n",
    "    by(out('identifierEdge').as('iv').\n",
    "        select('iv').\n",
    "        by(elementMap('identifierDomainId', 'identifier')).\n",
    "      fold()).\n",
    "    by(outE('recordLink').as('re').\n",
    "      inV().as('rv').\n",
    "        select('re', 'rv').\n",
    "        by(elementMap('weight', 'state', 'source')).\n",
    "        by(id).fold()).\n",
    "  limit(100)"
   ]
  },
  {
   "cell_type": "markdown",
   "metadata": {},
   "source": [
    "### Show a listing of patients, their identifiers, and their links. Patient must have an identifier.\n",
    "Similar to last query, but now we are looking across all patients. The patient must have an identifier. Limit to 100."
   ]
  },
  {
   "cell_type": "code",
   "execution_count": null,
   "metadata": {},
   "outputs": [],
   "source": [
    "%%gremlin\n",
    "\n",
    "// start with all patients\n",
    "g.V().\n",
    "  hasLabel('patient'). // check has at least one identifier edge\n",
    "  where(outE('identifierEdge').\n",
    "    count().is(gt(0))). // summarize the patient, identifiers, and record links that we get back\n",
    "  project('patient', 'identifiers', 'links').\n",
    "    by(elementMap('ssn','postalCode','city','state','givenName','familyName')).\n",
    "    by(outE('identifierEdge').as('ie').\n",
    "      inV().as('iv').select('iv').\n",
    "        by(elementMap('identifierDomainId', 'identifier')).\n",
    "      fold()).\n",
    "    by(outE('recordLink').as('re').\n",
    "      inV().as('rv').\n",
    "        select('re', 'rv').\n",
    "        by(elementMap('weight', 'state', 'source')).\n",
    "        by(id).fold()).\n",
    "  limit(100)"
   ]
  },
  {
   "cell_type": "markdown",
   "metadata": {},
   "source": [
    "### Show a listing of patients, their identifiers, and their links. Patient must have a record link.\n",
    "Similar to last query, but the patient must have a record link. Limit to 100."
   ]
  },
  {
   "cell_type": "code",
   "execution_count": null,
   "metadata": {},
   "outputs": [],
   "source": [
    "%%gremlin\n",
    "\n",
    "g.V().hasLabel('patient'). // check at least one record link\n",
    "  where(out('recordLink')).\n",
    "  project('patient', 'identifiers', 'links').\n",
    "    by(elementMap('ssn','postalCode','city','state','givenName','familyName')).\n",
    "    by(out('identifierEdge').as('iv').\n",
    "        select('iv').\n",
    "        by(elementMap('identifierDomainId', 'identifier')).\n",
    "      fold()).\n",
    "    by(outE('recordLink').as('re').\n",
    "      inV().as('rv').\n",
    "        select('re', 'rv').\n",
    "        by(elementMap('weight', 'state', 'source')).\n",
    "        by(id).fold()).\n",
    "  limit(100)"
   ]
  },
  {
   "cell_type": "markdown",
   "metadata": {},
   "source": [
    "### Show a listing of patients with multiple record links.\n",
    "Now let's look at patients who have multiple record links."
   ]
  },
  {
   "cell_type": "code",
   "execution_count": null,
   "metadata": {},
   "outputs": [],
   "source": [
    "%%gremlin\n",
    "\n",
    "g.V().hasLabel('patient').\n",
    "  where(outE('recordLink').\n",
    "    count().is(gt(1))).\n",
    "  project('patient', 'identifiers', 'links').\n",
    "    by(elementMap('ssn','postalCode','city','state','givenName','familyName')).\n",
    "    by(out('identifierEdge').as('iv').\n",
    "        select('iv').\n",
    "        by(elementMap('identifierDomainId', 'identifier')).\n",
    "      fold()).\n",
    "    by(outE('recordLink').as('re').\n",
    "      inV().as('rv').\n",
    "        select('re', 'rv').\n",
    "        by(elementMap('weight', 'state', 'source')).\n",
    "        by(id).fold()).\n",
    "  limit(100)\n"
   ]
  },
  {
   "cell_type": "markdown",
   "metadata": {},
   "source": [
    "### Visualize one patient that has multiple record links.\n",
    "From results of last query, we see that a specific patient has multiple record links. Run the query to see these links. In the results, select the Graph tab to see a visualization of these links."
   ]
  },
  {
   "cell_type": "code",
   "execution_count": null,
   "metadata": {
    "scrolled": true
   },
   "outputs": [],
   "source": [
    "%%gremlin -d T.id -de T.label\n",
    "\n",
    "// start with patient\n",
    "g.V('patients-25:3201').\n",
    "  repeat(outE('identifierEdge', 'recordLink').inV().\n",
    "    simplePath()).emit().times(10).path().\n",
    "    by(elementMap()).\n",
    "  limit(100)"
   ]
  }
 ],
 "metadata": {
  "kernelspec": {
   "display_name": "Python 3",
   "language": "python",
   "name": "python3"
  },
  "language_info": {
   "codemirror_mode": {
    "name": "ipython",
    "version": 3
   },
   "file_extension": ".py",
   "mimetype": "text/x-python",
   "name": "python",
   "nbconvert_exporter": "python",
   "pygments_lexer": "ipython3",
   "version": "3.10.8"
  }
 },
 "nbformat": 4,
 "nbformat_minor": 4
}
