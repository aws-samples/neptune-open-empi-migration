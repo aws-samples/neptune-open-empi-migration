{
 "cells": [
  {
   "cell_type": "markdown",
   "metadata": {},
   "source": [
    "# Patient EMPI Graph\n"
   ]
  },
  {
   "cell_type": "markdown",
   "metadata": {},
   "source": [
    "## Loading data\n"
   ]
  },
  {
   "cell_type": "markdown",
   "metadata": {},
   "source": [
    "### Reset/Clear DB if needed"
   ]
  },
  {
   "cell_type": "code",
   "execution_count": null,
   "metadata": {},
   "outputs": [],
   "source": [
    "%db_reset"
   ]
  },
  {
   "cell_type": "markdown",
   "metadata": {},
   "source": [
    "### Find name of your S3 Bucket"
   ]
  },
  {
   "cell_type": "code",
   "execution_count": null,
   "metadata": {},
   "outputs": [],
   "source": [
    "import os\n",
    "import subprocess\n",
    "\n",
    "stream = os.popen(\"source ~/.bashrc ; echo $S3_SOURCE_BUCKET; echo $S3_SOURCE_BUCKET\")\n",
    "S3_BUCKET = stream.read().split(\"\\n\")[0]\n",
    "\n",
    "S3_BUCKET"
   ]
  },
  {
   "cell_type": "markdown",
   "metadata": {},
   "source": [
    "### Grab local copy of S3 data"
   ]
  },
  {
   "cell_type": "code",
   "execution_count": null,
   "metadata": {},
   "outputs": [],
   "source": [
    "%%bash -s \"$S3_BUCKET\"\n",
    "\n",
    "echo $1\n",
    "mkdir converter_dir\n",
    "cd converter_dir\n",
    "aws s3 sync s3://$1 .\n",
    "cd converter\n"
   ]
  },
  {
   "cell_type": "markdown",
   "metadata": {},
   "source": [
    "### Install NPM dependencies for converter"
   ]
  },
  {
   "cell_type": "code",
   "execution_count": null,
   "metadata": {},
   "outputs": [],
   "source": [
    "%%bash\n",
    "\n",
    "cd converter_dir/converter\n",
    "\n",
    "# need nvm\n",
    "curl https://raw.githubusercontent.com/creationix/nvm/master/install.sh | bash\n",
    "export NVM_DIR=\"$HOME/.nvm\"\n",
    "    [ -s \"$NVM_DIR/nvm.sh\" ] && \\. \"$NVM_DIR/nvm.sh\"  # This loads nvm\n",
    "    [ -s \"$NVM_DIR/bash_completion\" ] && \\. \"$NVM_DIR/bash_completion\"  # This loads nvm bash_completion\n",
    "    \n",
    "# need node 16\n",
    "nvm install 16\n",
    "\n",
    "# need dependencies\n",
    "npm install #dependencies\n",
    "\n",
    "# let's see which node versions we have\n",
    "ls -l /home/ec2-user/.nvm/versions/node\n"
   ]
  },
  {
   "cell_type": "markdown",
   "metadata": {},
   "source": [
    "### Run the converter"
   ]
  },
  {
   "cell_type": "code",
   "execution_count": null,
   "metadata": {},
   "outputs": [],
   "source": [
    "%%bash\n",
    "\n",
    "cd converter_env/converter\n",
    "/home/ec2-user/.nvm/versions/node/*/bin/node process.js ../data/openempi_patient_db.json.gz class01\n"
   ]
  },
  {
   "cell_type": "markdown",
   "metadata": {},
   "source": [
    "### Move converted files to s3"
   ]
  },
  {
   "cell_type": "code",
   "execution_count": null,
   "metadata": {},
   "outputs": [],
   "source": [
    "%%bash -s \"$S3_BUCKET\"\n",
    "\n",
    "cd converter_env/converter \n",
    "aws s3 cp neptune-class01-identifier.csv.gz s3://$1/data/converted/nodes/neptune-class01-identifier.csv.gz\n",
    "aws s3 cp neptune-class01-patient.csv.gz s3://$1/data/converted/nodes/neptune-class01-patient.csv.gz\n",
    "aws s3 cp neptune-class01-recordLink.csv.gz s3://$1/data/converted/nodes/neptune-class01-recordLink.csv.gz\n",
    "aws s3 cp neptune-class01-identifierEdge.csv.gz s3://$1/data/converted/edges/neptune-class01-identifierEdge.csv.gz\n"
   ]
  },
  {
   "cell_type": "markdown",
   "metadata": {},
   "source": [
    "### Load each data set one by one.  Wait for each to complete. Then check status of each. Examine any errors."
   ]
  },
  {
   "cell_type": "code",
   "execution_count": null,
   "metadata": {},
   "outputs": [],
   "source": [
    "%load -s s3://{S3_BUCKET}/data/converted/nodes"
   ]
  },
  {
   "cell_type": "code",
   "execution_count": null,
   "metadata": {},
   "outputs": [],
   "source": [
    "%load_status b32323f9-0085-42af-9ce1-e96a2293995d"
   ]
  },
  {
   "cell_type": "code",
   "execution_count": null,
   "metadata": {},
   "outputs": [],
   "source": [
    "%load -s s3://{S3_BUCKET}/data/converted/edges"
   ]
  },
  {
   "cell_type": "code",
   "execution_count": null,
   "metadata": {},
   "outputs": [],
   "source": [
    "%load_status b2bcf828-305e-4cb2-82bb-e98a9cde817f"
   ]
  },
  {
   "cell_type": "markdown",
   "metadata": {},
   "source": [
    "## Basic Exploratory Queries"
   ]
  },
  {
   "cell_type": "code",
   "execution_count": null,
   "metadata": {},
   "outputs": [],
   "source": [
    "%%gremlin\n",
    "\n",
    "// sanity check - list some identifiers. will work once date is fixed\n",
    "g.V().hasLabel('identifier').elementMap().limit(1).fold()"
   ]
  },
  {
   "cell_type": "code",
   "execution_count": null,
   "metadata": {},
   "outputs": [],
   "source": [
    "%%gremlin\n",
    "\n",
    "// sanity check - list some patients\n",
    "g.V().hasLabel('patient').elementMap().limit(100)"
   ]
  },
  {
   "cell_type": "code",
   "execution_count": null,
   "metadata": {},
   "outputs": [],
   "source": [
    "%%gremlin\n",
    "\n",
    "g.E().hasLabel('identifierEdge').elementMap().limit(1).fold()"
   ]
  },
  {
   "cell_type": "code",
   "execution_count": null,
   "metadata": {},
   "outputs": [],
   "source": [
    "%%gremlin\n",
    "\n",
    "g.E().hasLabel('recordLink').elementMap().limit(1).fold()"
   ]
  },
  {
   "cell_type": "markdown",
   "metadata": {},
   "source": [
    "## Viz"
   ]
  },
  {
   "cell_type": "code",
   "execution_count": null,
   "metadata": {},
   "outputs": [],
   "source": [
    "%%gremlin -d T.id -de T.id\n",
    "// clusters of patients linked by recordLink\n",
    "\n",
    "g.V().hasLabel('patient').outE().inV().path().by(elementMap()).limit(100)\n",
    "\n"
   ]
  },
  {
   "cell_type": "code",
   "execution_count": null,
   "metadata": {
    "scrolled": true
   },
   "outputs": [],
   "source": [
    "%%gremlin -d T.id -de T.id\n",
    "// clusters of patients linked by recordLink\n",
    "\n",
    "g.V().hasLabel('patient').outE('recordLink').inV().path().by(elementMap()).limit(500)\n",
    "\n",
    "\n"
   ]
  },
  {
   "cell_type": "code",
   "execution_count": null,
   "metadata": {},
   "outputs": [],
   "source": [
    "%%gremlin -d T.id -de T.id\n",
    "// clusters of patients linked by recordLink\n",
    "\n",
    "//g.V().hasLabel('patient').repeat(outE('recordLink').inV()).until(outE('recordLink').count().is(0)).path().by(elementMap()).limit(300)\n",
    "\n",
    "\n",
    "g.V().hasLabel('patient').outE('recordLink').inV().repeat(outE('recordLink').inV()).until(outE('recordLink').count().is(0)).path().by(elementMap()).limit(1000)\n"
   ]
  },
  {
   "cell_type": "code",
   "execution_count": null,
   "metadata": {},
   "outputs": [],
   "source": [
    "%%gremlin -p v,oute,inv\n",
    "\n",
    "// -p path pattern (viz hint)  - vertex, out-edge, in-vertex\n",
    "\n",
    "// clusters of patients linked by recordLink\n",
    "// TODO - this returns clusters of patients. how to show the details in the viz\n",
    "g.V().hasLabel('patient')\n",
    ".repeat(outE('recordLin%%gremlin -d T.id -de T.id\n",
    "// clusters of patients linked by recordLink\n",
    "\n",
    "g.V().hasLabel('patient').outE().inV().path().by(elementMap()).limit(100)\n",
    "\n",
    "\n",
    "\n",
    "%%gremlin -d T.id -de T.id\n",
    "// clusters of patients linked by recordLink\n",
    "\n",
    "g.V().hasLabel('patient').outE('recordLink').inV().path().by(elementMap()).limit(500)\n",
    "\n",
    "\n",
    "\n",
    "\n",
    "%%gremlin -d T.id -de T.id\n",
    "// clusters of patients linked by recordLink\n",
    "\n",
    "//g.V().hasLabel('patient').repeat(outE('recordLink').inV()).until(outE('recordLink').count().is(0)).path().by(elementMap()).limit(300)\n",
    "\n",
    "\n",
    "g.V().hasLabel('patient').outE('recordLink').inV().repeat(outE('recordLink').inV()).until(outE('recordLink').count().is(0)).path().by(elementMap()).limit(1000)\n",
    "k').inV())\n",
    ".until(outE('recordLink').count().is(0))\n",
    ".path().by(elementMap())\n",
    ".limit(300)\n",
    "\n"
   ]
  },
  {
   "cell_type": "markdown",
   "metadata": {},
   "source": [
    "## SSN Match"
   ]
  },
  {
   "cell_type": "code",
   "execution_count": null,
   "metadata": {},
   "outputs": [],
   "source": [
    "%%gremlin\n",
    "\n",
    "//\n",
    "// PRETTY GOOD QUERy\n",
    "//\n",
    "\n",
    "//\n",
    "// SSN Match Query\n",
    "//\n",
    "\n",
    "// here are patients sharing ssn\n",
    "//g.V().hasLabel('patient').has('ssn', '672181714').elementMap()\n",
    "\n",
    "// SSN to try\n",
    "// 923456789\n",
    "// 000000999\n",
    "\n",
    "g.V().hasLabel('patient').has('ssn', '923456789').as('p')\n",
    ".project('patient', 'identifiers', 'links')\n",
    ".by(elementMap('ssn', 'postalCode', 'city', 'state', 'givenName', 'familyName2'))\n",
    ".by(outE('identifierEdge').as('ie').inV().as('iv').select('ie', 'iv').by(id).by(elementMap()).fold())\n",
    ".by(outE('recordLink').as('re-id', 're-wt').inV().as('rv')\n",
    "  .select('re-id', 're-wt', 'rv').by(id).by(valueMap('weight')).by(elementMap('givenName')).fold())\n",
    "\n",
    "\n",
    "// Nice to show which are already linked"
   ]
  },
  {
   "cell_type": "code",
   "execution_count": null,
   "metadata": {
    "scrolled": true
   },
   "outputs": [],
   "source": [
    "%%gremlin\n",
    "\n",
    "// same but bring in identifiers and record links\n",
    "g.V().hasLabel('patient').has('ssn', '672181714')\n",
    ".project('patient', 'identifiers', 'links')\n",
    ".by(elementMap())\n",
    ".by(outE('identifierEdge').as('ie').inV().as('iv').select('ie', 'iv').by(id).by(elementMap()).fold())\n",
    ".by(outE('recordLink').as('re-id', 're-wt').inV().as('rv')\n",
    "  .select('re-id', 're-wt', 'rv').by(id).by(valueMap('weight')).by(elementMap('givenName')).fold())"
   ]
  },
  {
   "cell_type": "code",
   "execution_count": null,
   "metadata": {},
   "outputs": [],
   "source": [
    "%%gremlin\n",
    "\n",
    "// all patients\n",
    "g.V().hasLabel('patient')\n",
    ".order().by('ssn')\n",
    ".project('patient', 'identifiers', 'links')\n",
    ".by(elementMap())\n",
    ".by(outE('identifierEdge').as('ie').inV().as('iv').select('ie', 'iv').by(id).by(elementMap()).fold())\n",
    ".by(outE('recordLink').as('re-id', 're-wt').inV().as('rv')\n",
    "  .select('re-id', 're-wt', 'rv').by(id).by(valueMap('weight')).by(id).fold())\n",
    ".limit(100)"
   ]
  },
  {
   "cell_type": "markdown",
   "metadata": {},
   "source": [
    "## RecordQueryNotInIdentifierDomain -haslinks\n",
    "\n",
    "\n",
    "//Query: select from patient let $id = out_identifierEdge \n",
    "// where dateVoided is null and ($id.size() = 0 or $id.in.identifierDomainId not contains '18') \n",
    "// and (in_recordLink is not null OR\n",
    "// out_recordLink is not null) limit {limit}"
   ]
  },
  {
   "cell_type": "code",
   "execution_count": null,
   "metadata": {},
   "outputs": [],
   "source": [
    "%%gremlin\n",
    "\n",
    "g.V().hasLabel('patient')\n",
    ".where(out('identifierEdge').has('identifierDomainId',neq('18')).count().is(gt(0)))\n",
    ".where(out('recordLink').count().is(gt(0)))\n",
    ".elementMap()\n",
    ".limit(100)\n"
   ]
  },
  {
   "cell_type": "code",
   "execution_count": null,
   "metadata": {},
   "outputs": [],
   "source": [
    "%%gremlin\n",
    "\n",
    "// same, but we list a summary of identifiers and links. Show at most three record links\n",
    "g.V().hasLabel('patient')\n",
    ".where(out('identifierEdge').has('identifierDomainId',neq('18')).count().is(gt(0)))\n",
    ".where(out('recordLink').count().is(gt(0)))\n",
    ".project('node', 'identifiers', 'links')\n",
    ".by(elementMap())\n",
    ".by(outE('identifierEdge').as('ie').inV().as('iv').select('ie', 'iv').by(id).by(elementMap()).fold())\n",
    ".by(outE('recordLink').as('re-id', 're-wt').inV().as('rv')\n",
    "  .select('re-id', 're-wt', 'rv').by(id).by(valueMap('weight')).by(id).limit(3).fold())\n",
    ".limit(100)"
   ]
  },
  {
   "cell_type": "code",
   "execution_count": null,
   "metadata": {},
   "outputs": [],
   "source": [
    "%%gremlin\n",
    "\n",
    "//\n",
    "// SSN Match Query\n",
    "//\n",
    "\n",
    "// here are patients sharing ssn\n",
    "g.V().hasLabel('patient').has('ssn', '672181714').elementMap()\n",
    "\n",
    "// same but bring in identifiers and record links\n",
    "g.V().hasLabel('patient').has('ssn', '672181714')\n",
    ".project('patient', 'identifiers', 'links')\n",
    ".by(elementMap())\n",
    ".by(outE('identifierEdge').as('ie').inV().as('iv').select('ie', 'iv').by(id).by(elementMap()).fold())\n",
    ".by(outE('recordLink').as('re-id', 're-wt').inV().as('rv')\n",
    "  .select('re-id', 're-wt', 'rv').by(id).by(valueMap('weight')).by(elementMap()).fold())\n",
    "\n",
    "// all patients\n",
    "g.V().hasLabel('patient')\n",
    ".order().by('ssn')\n",
    ".project('patient', 'identifiers', 'links')\n",
    ".by(elementMap())\n",
    ".by(outE('identifierEdge').as('ie').inV().as('iv').select('ie', 'iv').by(id).by(elementMap()).fold())\n",
    ".by(outE('recordLink').as('re-id', 're-wt').inV().as('rv')\n",
    "  .select('re-id', 're-wt', 'rv').by(id).by(valueMap('weight')).by(elementMap()).fold())\n",
    ".limit(10)\n",
    "\n",
    "\n",
    "//g.V().hasLabel('patient')\n",
    "//.order().by('ssn').as('patient')\n",
    "//.select('patient', 'identifiers').by(elementMap()).by(outE('identifierEdge').as('ie').inV().as('iv').select('ie', 'iv').by(id).by(elementMap()).fold())\n",
    "//.limit(100)\n"
   ]
  },
  {
   "cell_type": "code",
   "execution_count": null,
   "metadata": {},
   "outputs": [],
   "source": [
    "%%gremlin\n",
    "\n",
    "//Query: select from patient let $id = out_identifierEdge where dateVoided is null and ($id.size() = 0 or $id.in.identifierDomainId not contains '18') and (in_recordLink is not null OR\n",
    "//out_recordLink is not null) limit {limit}\n",
    "\n",
    "g.V().hasLabel('patient')\n",
    ".where(out('identifierEdge').has('identifierDomainId',neq('18')).count().is(gt(0)))\n",
    ".where(out('recordLink').count().is(gt(0)))\n",
    ".elementMap()\n",
    ".limit(100)\n",
    "\n",
    "// same, but we list a summary of identifiers and lin\n",
    "g.V().hasLabel('patient').as('patient')\n",
    ".where(out('identifierEdge').has('identifierDomainId',neq('18')).count().is(gt(0)))\n",
    ".where(out('recordLink').count().is(gt(0)))\n",
    ".out('identifierEdge', 'recordLink').as('edge')\n",
    ".select('patient', 'edge').by(elementMap())\n",
    ".limit(100)\n",
    "\n",
    "// bring in identifiers and record links\n",
    "g.V().hasLabel('patient')\n",
    ".project('node', 'identifiers', 'links')\n",
    ".by(elementMap())\n",
    ".by(outE('identifierEdge').as('ie').inV().as('iv').select('ie', 'iv').by(id).by(elementMap()).fold())\n",
    ".by(outE('recordLink').as('re-id', 're-wt').inV().as('rv')\n",
    "  .select('re-id', 're-wt', 'rv').by(id).by(valueMap('weight')).by(id).fold())\n",
    ".order().by('ssn')\n",
    ".limit(50) "
   ]
  }
 ],
 "metadata": {
  "kernelspec": {
   "display_name": "Python 3",
   "language": "python",
   "name": "python3"
  },
  "language_info": {
   "codemirror_mode": {
    "name": "ipython",
    "version": 3
   },
   "file_extension": ".py",
   "mimetype": "text/x-python",
   "name": "python",
   "nbconvert_exporter": "python",
   "pygments_lexer": "ipython3",
   "version": "3.7.12"
  }
 },
 "nbformat": 4,
 "nbformat_minor": 4
}
