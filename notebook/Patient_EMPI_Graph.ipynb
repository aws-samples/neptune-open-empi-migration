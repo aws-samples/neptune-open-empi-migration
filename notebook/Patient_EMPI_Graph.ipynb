{
 "cells": [
  {
   "cell_type": "markdown",
   "metadata": {},
   "source": [
    "# Patient EMPI Graph\n"
   ]
  },
  {
   "cell_type": "markdown",
   "metadata": {},
   "source": [
    "## Convert Source Data to Neptune CSV\n"
   ]
  },
  {
   "cell_type": "markdown",
   "metadata": {},
   "source": [
    "### Find name of your S3 Bucket"
   ]
  },
  {
   "cell_type": "code",
   "execution_count": null,
   "metadata": {},
   "outputs": [],
   "source": [
    "import os\n",
    "import subprocess\n",
    "\n",
    "stream = os.popen(\"source ~/.bashrc ; echo $S3_SOURCE_BUCKET; echo $S3_SOURCE_BUCKET\")\n",
    "S3_BUCKET = stream.read().split(\"\\n\")[0]\n",
    "\n",
    "S3_BUCKET"
   ]
  },
  {
   "cell_type": "markdown",
   "metadata": {},
   "source": [
    "### Grab local copy of S3 data"
   ]
  },
  {
   "cell_type": "code",
   "execution_count": null,
   "metadata": {},
   "outputs": [],
   "source": [
    "%%bash -s \"$S3_BUCKET\"\n",
    "\n",
    "echo $1\n",
    "mkdir converter_dir\n",
    "cd converter_dir\n",
    "aws s3 sync s3://$1 .\n",
    "rm -r notebook # already have it\n",
    "cd converter\n"
   ]
  },
  {
   "cell_type": "markdown",
   "metadata": {},
   "source": [
    "### Install NPM dependencies for converter"
   ]
  },
  {
   "cell_type": "code",
   "execution_count": null,
   "metadata": {},
   "outputs": [],
   "source": [
    "%%bash\n",
    "\n",
    "cd converter_dir/converter\n",
    "\n",
    "# need nvm\n",
    "curl https://raw.githubusercontent.com/creationix/nvm/master/install.sh | bash\n",
    "export NVM_DIR=\"$HOME/.nvm\"\n",
    "    [ -s \"$NVM_DIR/nvm.sh\" ] && \\. \"$NVM_DIR/nvm.sh\"  # This loads nvm\n",
    "    [ -s \"$NVM_DIR/bash_completion\" ] && \\. \"$NVM_DIR/bash_completion\"  # This loads nvm bash_completion\n",
    "    \n",
    "# need node 16\n",
    "nvm install 16\n",
    "\n",
    "# need dependencies\n",
    "npm install #dependencies\n",
    "\n",
    "# let's see which node versions we have\n",
    "ls -l /home/ec2-user/.nvm/versions/node\n"
   ]
  },
  {
   "cell_type": "markdown",
   "metadata": {},
   "source": [
    "### Run the converter"
   ]
  },
  {
   "cell_type": "code",
   "execution_count": null,
   "metadata": {},
   "outputs": [],
   "source": [
    "%%bash\n",
    "\n",
    "cd converter_dir/converter\n",
    "\n",
    "/home/ec2-user/.nvm/versions/node/*/bin/node process.js ../data/openempi_patient_db.json.gz patients\n"
   ]
  },
  {
   "cell_type": "markdown",
   "metadata": {},
   "source": [
    "### Move converted files to s3"
   ]
  },
  {
   "cell_type": "code",
   "execution_count": null,
   "metadata": {},
   "outputs": [],
   "source": [
    "%%bash -s \"$S3_BUCKET\"\n",
    "\n",
    "cd converter_dir/converter \n",
    "aws s3 cp neptune-patients-identifier.csv.gz s3://$1/data/converted/neptune-patients-identifier.csv.gz\n",
    "aws s3 cp neptune-patients-patient.csv.gz s3://$1/data/converted/neptune-patients-patient.csv.gz\n",
    "aws s3 cp neptune-patients-recordLink.csv.gz s3://$1/data/converted/neptune-patients-recordLink.csv.gz\n",
    "aws s3 cp neptune-patients-identifierEdge.csv.gz s3://$1/data/converted/neptune-patients-identifierEdge.csv.gz\n"
   ]
  },
  {
   "cell_type": "markdown",
   "metadata": {},
   "source": [
    "## Load data into Neptune"
   ]
  },
  {
   "cell_type": "code",
   "execution_count": null,
   "metadata": {},
   "outputs": [],
   "source": [
    "%load -s s3://{S3_BUCKET}/data/converted --store-to loadres --run"
   ]
  },
  {
   "cell_type": "markdown",
   "metadata": {},
   "source": [
    "## Check load status"
   ]
  },
  {
   "cell_type": "code",
   "execution_count": null,
   "metadata": {},
   "outputs": [],
   "source": [
    "%load_status {loadres['payload']['loadId']} --details --errors"
   ]
  },
  {
   "cell_type": "markdown",
   "metadata": {},
   "source": [
    "## Query the Data in Neptune"
   ]
  },
  {
   "cell_type": "markdown",
   "metadata": {},
   "source": [
    "### Find patient by SSN. Show patient details, identifiers, record links."
   ]
  },
  {
   "cell_type": "code",
   "execution_count": null,
   "metadata": {},
   "outputs": [],
   "source": [
    "%%gremlin\n",
    "\n",
    "// find patients that match on ssn\n",
    "g.V().\n",
    "  hasLabel('patient').has('ssn', '460000320'). // show full patient record and summary identifiers, record links\n",
    "  project('patient', 'identifiers', 'links').\n",
    "    by(elementMap()).\n",
    "    by(out('identifierEdge').as('iv').\n",
    "        select('iv').\n",
    "        by(elementMap('identifierDomainId', 'identifier')).\n",
    "      fold()).\n",
    "    by(outE('recordLink').as('re').\n",
    "      inV().as('rv').\n",
    "        select('re', 'rv').\n",
    "        by(elementMap('weight', 'state', 'source')).\n",
    "        by(id).fold()).\n",
    "  limit(100)"
   ]
  },
  {
   "cell_type": "markdown",
   "metadata": {},
   "source": [
    "### Show a listing of patients, their identifiers, and their links. Patient must have an identifier."
   ]
  },
  {
   "cell_type": "code",
   "execution_count": null,
   "metadata": {},
   "outputs": [],
   "source": [
    "%%gremlin\n",
    "\n",
    "// start with all patients\n",
    "g.V().\n",
    "  hasLabel('patient'). // check has at least one identifier edge\n",
    "  where(outE('identifierEdge').\n",
    "    count().is(gt(0))). // summarize the patient, identifiers, and record links that we get back\n",
    "  project('patient', 'identifiers', 'links').\n",
    "    by(elementMap('ssn','postalCode','city','state','givenName','familyName')).\n",
    "    by(outE('identifierEdge').as('ie').\n",
    "      inV().as('iv').select('iv').\n",
    "        by(elementMap('identifierDomainId', 'identifier')).\n",
    "      fold()).\n",
    "    by(outE('recordLink').as('re').\n",
    "      inV().as('rv').\n",
    "        select('re', 'rv').\n",
    "        by(elementMap('weight', 'state', 'source')).\n",
    "        by(id).fold()).\n",
    "  limit(100)"
   ]
  },
  {
   "cell_type": "markdown",
   "metadata": {},
   "source": [
    "### Show a listing of patients, their identifiers, and their links. Patient must have a record link."
   ]
  },
  {
   "cell_type": "code",
   "execution_count": null,
   "metadata": {},
   "outputs": [],
   "source": [
    "%%gremlin\n",
    "\n",
    "g.V().hasLabel('patient'). // check at least one record link\n",
    "  where(out('recordLink')).\n",
    "  project('patient', 'identifiers', 'links').\n",
    "    by(elementMap('ssn','postalCode','city','state','givenName','familyName')).\n",
    "    by(out('identifierEdge').as('iv').\n",
    "        select('iv').\n",
    "        by(elementMap('identifierDomainId', 'identifier')).\n",
    "      fold()).\n",
    "    by(outE('recordLink').as('re').\n",
    "      inV().as('rv').\n",
    "        select('re', 'rv').\n",
    "        by(elementMap('weight', 'state', 'source')).\n",
    "        by(id).fold()).\n",
    "  limit(100)"
   ]
  },
  {
   "cell_type": "markdown",
   "metadata": {},
   "source": [
    "### Show a listing of patients with multiple record links."
   ]
  },
  {
   "cell_type": "code",
   "execution_count": null,
   "metadata": {},
   "outputs": [],
   "source": [
    "%%gremlin\n",
    "\n",
    "g.V().hasLabel('patient').\n",
    "  where(outE('recordLink').\n",
    "    count().is(gt(1))).\n",
    "  project('patient', 'identifiers', 'links').\n",
    "    by(elementMap('ssn','postalCode','city','state','givenName','familyName')).\n",
    "    by(out('identifierEdge').as('iv').\n",
    "        select('iv').\n",
    "        by(elementMap('identifierDomainId', 'identifier')).\n",
    "      fold()).\n",
    "    by(outE('recordLink').as('re').\n",
    "      inV().as('rv').\n",
    "        select('re', 'rv').\n",
    "        by(elementMap('weight', 'state', 'source')).\n",
    "        by(id).fold()).\n",
    "  limit(100)\n"
   ]
  },
  {
   "cell_type": "markdown",
   "metadata": {},
   "source": [
    "### Visualize one patient that has multiple record links."
   ]
  },
  {
   "cell_type": "code",
   "execution_count": null,
   "metadata": {
    "scrolled": true
   },
   "outputs": [],
   "source": [
    "%%gremlin -d T.id -de T.label\n",
    "\n",
    "// start with patient\n",
    "g.V('patients-25:3201').\n",
    "  repeat(outE('identifierEdge', 'recordLink').inV().\n",
    "    simplePath()).emit().times(10).path().\n",
    "    by(elementMap()).\n",
    "  limit(100)"
   ]
  }
 ],
 "metadata": {
  "kernelspec": {
   "display_name": "Python 3",
   "language": "python",
   "name": "python3"
  },
  "language_info": {
   "codemirror_mode": {
    "name": "ipython",
    "version": 3
   },
   "file_extension": ".py",
   "mimetype": "text/x-python",
   "name": "python",
   "nbconvert_exporter": "python",
   "pygments_lexer": "ipython3",
   "version": "3.7.12"
  }
 },
 "nbformat": 4,
 "nbformat_minor": 4
}
